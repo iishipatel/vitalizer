{
 "metadata": {
  "language_info": {
   "codemirror_mode": {
    "name": "ipython",
    "version": 3
   },
   "file_extension": ".py",
   "mimetype": "text/x-python",
   "name": "python",
   "nbconvert_exporter": "python",
   "pygments_lexer": "ipython3",
   "version": "3.7.6-final"
  },
  "orig_nbformat": 2,
  "kernelspec": {
   "name": "Python 3.7.6 64-bit ('base': conda)",
   "display_name": "Python 3.7.6 64-bit ('base': conda)",
   "metadata": {
    "interpreter": {
     "hash": "30a02357ad61d95a5242d98990b87bdae37e8ffbcc01eed72991b68738ef4ca4"
    }
   }
  }
 },
 "nbformat": 4,
 "nbformat_minor": 2,
 "cells": [
  {
   "cell_type": "code",
   "execution_count": 73,
   "metadata": {},
   "outputs": [],
   "source": [
    "# import libraries\n",
    "import pandas as pd\n",
    "import numpy as np\n",
    "from sklearn import linear_model, model_selection, metrics\n",
    "from sklearn.model_selection import train_test_split\n",
    "from sklearn.tree import DecisionTreeClassifier\n",
    "from sklearn import tree\n",
    "from sklearn import preprocessing\n",
    "import pydotplus\n",
    "from IPython.display import Image"
   ]
  },
  {
   "cell_type": "code",
   "execution_count": 74,
   "metadata": {},
   "outputs": [
    {
     "output_type": "execute_result",
     "data": {
      "text/plain": [
       "   aline_flg  icu_los_day  hospital_los_day       age  gender_num  \\\n",
       "0          1         7.63                13  72.36841         1.0   \n",
       "1          0         1.14                 1  64.92076         0.0   \n",
       "2          0         2.86                 5  36.50000         0.0   \n",
       "3          1         0.58                 3  44.49191         0.0   \n",
       "4          1         1.75                 5  23.74217         1.0   \n",
       "\n",
       "   weight_first        bmi  sapsi_first  sofa_first service_unit     ...       \\\n",
       "0          75.0  29.912791         15.0         9.0         SICU     ...        \n",
       "1          55.0  20.121312          NaN         5.0         MICU     ...        \n",
       "2          70.0  27.118272         16.0         5.0         MICU     ...        \n",
       "3           NaN        NaN         21.0         7.0         SICU     ...        \n",
       "4          95.2  28.464563         18.0         7.0         SICU     ...        \n",
       "\n",
       "   platelet_first sodium_first  potassium_first  tco2_first  chloride_first  \\\n",
       "0           354.0        138.0              4.6        15.0           109.0   \n",
       "1             NaN          NaN              NaN         NaN             NaN   \n",
       "2           295.0        144.0              3.9        17.0           101.0   \n",
       "3           262.0        139.0              4.2        31.0           100.0   \n",
       "4            22.0        146.0              3.4        19.0           110.0   \n",
       "\n",
       "   bun_first  creatinine_first  po2_first  pco2_first     iv_day_1  \n",
       "0       41.0               1.6      196.0        39.0  2230.875000  \n",
       "1        NaN               NaN        NaN         NaN   600.000000  \n",
       "2       16.0               0.8      298.0        30.0  2086.800293  \n",
       "3       16.0               0.5      146.0        23.0          NaN  \n",
       "4       10.0               1.0      134.0        30.0  2358.244141  \n",
       "\n",
       "[5 rows x 46 columns]"
      ],
      "text/html": "<div>\n<style scoped>\n    .dataframe tbody tr th:only-of-type {\n        vertical-align: middle;\n    }\n\n    .dataframe tbody tr th {\n        vertical-align: top;\n    }\n\n    .dataframe thead th {\n        text-align: right;\n    }\n</style>\n<table border=\"1\" class=\"dataframe\">\n  <thead>\n    <tr style=\"text-align: right;\">\n      <th></th>\n      <th>aline_flg</th>\n      <th>icu_los_day</th>\n      <th>hospital_los_day</th>\n      <th>age</th>\n      <th>gender_num</th>\n      <th>weight_first</th>\n      <th>bmi</th>\n      <th>sapsi_first</th>\n      <th>sofa_first</th>\n      <th>service_unit</th>\n      <th>...</th>\n      <th>platelet_first</th>\n      <th>sodium_first</th>\n      <th>potassium_first</th>\n      <th>tco2_first</th>\n      <th>chloride_first</th>\n      <th>bun_first</th>\n      <th>creatinine_first</th>\n      <th>po2_first</th>\n      <th>pco2_first</th>\n      <th>iv_day_1</th>\n    </tr>\n  </thead>\n  <tbody>\n    <tr>\n      <th>0</th>\n      <td>1</td>\n      <td>7.63</td>\n      <td>13</td>\n      <td>72.36841</td>\n      <td>1.0</td>\n      <td>75.0</td>\n      <td>29.912791</td>\n      <td>15.0</td>\n      <td>9.0</td>\n      <td>SICU</td>\n      <td>...</td>\n      <td>354.0</td>\n      <td>138.0</td>\n      <td>4.6</td>\n      <td>15.0</td>\n      <td>109.0</td>\n      <td>41.0</td>\n      <td>1.6</td>\n      <td>196.0</td>\n      <td>39.0</td>\n      <td>2230.875000</td>\n    </tr>\n    <tr>\n      <th>1</th>\n      <td>0</td>\n      <td>1.14</td>\n      <td>1</td>\n      <td>64.92076</td>\n      <td>0.0</td>\n      <td>55.0</td>\n      <td>20.121312</td>\n      <td>NaN</td>\n      <td>5.0</td>\n      <td>MICU</td>\n      <td>...</td>\n      <td>NaN</td>\n      <td>NaN</td>\n      <td>NaN</td>\n      <td>NaN</td>\n      <td>NaN</td>\n      <td>NaN</td>\n      <td>NaN</td>\n      <td>NaN</td>\n      <td>NaN</td>\n      <td>600.000000</td>\n    </tr>\n    <tr>\n      <th>2</th>\n      <td>0</td>\n      <td>2.86</td>\n      <td>5</td>\n      <td>36.50000</td>\n      <td>0.0</td>\n      <td>70.0</td>\n      <td>27.118272</td>\n      <td>16.0</td>\n      <td>5.0</td>\n      <td>MICU</td>\n      <td>...</td>\n      <td>295.0</td>\n      <td>144.0</td>\n      <td>3.9</td>\n      <td>17.0</td>\n      <td>101.0</td>\n      <td>16.0</td>\n      <td>0.8</td>\n      <td>298.0</td>\n      <td>30.0</td>\n      <td>2086.800293</td>\n    </tr>\n    <tr>\n      <th>3</th>\n      <td>1</td>\n      <td>0.58</td>\n      <td>3</td>\n      <td>44.49191</td>\n      <td>0.0</td>\n      <td>NaN</td>\n      <td>NaN</td>\n      <td>21.0</td>\n      <td>7.0</td>\n      <td>SICU</td>\n      <td>...</td>\n      <td>262.0</td>\n      <td>139.0</td>\n      <td>4.2</td>\n      <td>31.0</td>\n      <td>100.0</td>\n      <td>16.0</td>\n      <td>0.5</td>\n      <td>146.0</td>\n      <td>23.0</td>\n      <td>NaN</td>\n    </tr>\n    <tr>\n      <th>4</th>\n      <td>1</td>\n      <td>1.75</td>\n      <td>5</td>\n      <td>23.74217</td>\n      <td>1.0</td>\n      <td>95.2</td>\n      <td>28.464563</td>\n      <td>18.0</td>\n      <td>7.0</td>\n      <td>SICU</td>\n      <td>...</td>\n      <td>22.0</td>\n      <td>146.0</td>\n      <td>3.4</td>\n      <td>19.0</td>\n      <td>110.0</td>\n      <td>10.0</td>\n      <td>1.0</td>\n      <td>134.0</td>\n      <td>30.0</td>\n      <td>2358.244141</td>\n    </tr>\n  </tbody>\n</table>\n<p>5 rows × 46 columns</p>\n</div>"
     },
     "metadata": {},
     "execution_count": 74
    }
   ],
   "source": [
    "# view dataset\n",
    "medi_data = pd.read_csv('full_cohort_data.csv')\n",
    "medi_data.head()"
   ]
  },
  {
   "cell_type": "code",
   "execution_count": 75,
   "metadata": {},
   "outputs": [
    {
     "output_type": "stream",
     "name": "stdout",
     "text": [
      "<class 'pandas.core.frame.DataFrame'>\nRangeIndex: 1776 entries, 0 to 1775\nData columns (total 46 columns):\naline_flg             1776 non-null int64\nicu_los_day           1776 non-null float64\nhospital_los_day      1776 non-null int64\nage                   1776 non-null float64\ngender_num            1775 non-null float64\nweight_first          1666 non-null float64\nbmi                   1310 non-null float64\nsapsi_first           1691 non-null float64\nsofa_first            1770 non-null float64\nservice_unit          1776 non-null object\nservice_num           1776 non-null int64\nday_icu_intime        1776 non-null object\nday_icu_intime_num    1776 non-null int64\nhour_icu_intime       1776 non-null int64\nhosp_exp_flg          1776 non-null int64\nicu_exp_flg           1776 non-null int64\nday_28_flg            1776 non-null int64\nmort_day_censored     1776 non-null float64\ncensor_flg            1776 non-null int64\nsepsis_flg            1776 non-null int64\nchf_flg               1776 non-null int64\nafib_flg              1776 non-null int64\nrenal_flg             1776 non-null int64\nliver_flg             1776 non-null int64\ncopd_flg              1776 non-null int64\ncad_flg               1776 non-null int64\nstroke_flg            1776 non-null int64\nmal_flg               1776 non-null int64\nresp_flg              1776 non-null int64\nmap_1st               1776 non-null float64\nhr_1st                1776 non-null int64\ntemp_1st              1773 non-null float64\nspo2_1st              1776 non-null int64\nabg_count             1776 non-null int64\nwbc_first             1768 non-null float64\nhgb_first             1768 non-null float64\nplatelet_first        1768 non-null float64\nsodium_first          1771 non-null float64\npotassium_first       1771 non-null float64\ntco2_first            1771 non-null float64\nchloride_first        1771 non-null float64\nbun_first             1771 non-null float64\ncreatinine_first      1770 non-null float64\npo2_first             1590 non-null float64\npco2_first            1590 non-null float64\niv_day_1              1633 non-null float64\ndtypes: float64(22), int64(22), object(2)\nmemory usage: 638.3+ KB\n"
     ]
    }
   ],
   "source": [
    "medi_data.info()"
   ]
  },
  {
   "cell_type": "code",
   "execution_count": 76,
   "metadata": {},
   "outputs": [],
   "source": [
    "# Data Cleaning\n",
    "mean_bmi=medi_data[\"bmi\"].mean()\n",
    "temp_mean=medi_data['temp_1st'].mean()\n",
    "medi_data['bmi'].fillna(mean_bmi,inplace=True)\n",
    "medi_data['temp_1st'].fillna(temp_mean,inplace=True)\n",
    "medi_data['gender_num'].fillna(0,inplace=True)\n"
   ]
  },
  {
   "cell_type": "code",
   "execution_count": 77,
   "metadata": {},
   "outputs": [],
   "source": [
    "# column selection\n",
    "y = medi_data['resp_flg']\n",
    "medi_data.drop(['aline_flg','icu_los_day','hospital_los_day','weight_first','sapsi_first', 'sofa_first','service_unit','service_num','day_icu_intime','day_icu_intime_num','hour_icu_intime','hosp_exp_flg','icu_exp_flg','day_28_flg','mort_day_censored','censor_flg','sepsis_flg','chf_flg','afib_flg','renal_flg','liver_flg','copd_flg','cad_flg','stroke_flg','mal_flg','resp_flg','spo2_1st','abg_count','wbc_first','hgb_first','platelet_first','sodium_first','potassium_first','tco2_first','chloride_first','bun_first','creatinine_first','po2_first','pco2_first','iv_day_1'],axis=1, inplace=True)\n",
    "X = medi_data"
   ]
  },
  {
   "cell_type": "code",
   "execution_count": 78,
   "metadata": {},
   "outputs": [],
   "source": [
    "# Create decision tree classifier \n",
    "\n",
    "X_train, X_test, y_train, y_test = train_test_split(X,y, test_size=0.2, random_state=99)"
   ]
  },
  {
   "cell_type": "code",
   "execution_count": 86,
   "metadata": {},
   "outputs": [
    {
     "output_type": "execute_result",
     "data": {
      "text/plain": [
       "0.6882022471910112"
      ]
     },
     "metadata": {},
     "execution_count": 86
    }
   ],
   "source": [
    "from sklearn.linear_model import LogisticRegression\n",
    "model2 = LogisticRegression()\n",
    "model2.fit(X_train, y_train)\n",
    "y2_pred=model2.predict(X_test)\n",
    "model2.score(X_test,y_test)"
   ]
  },
  {
   "cell_type": "code",
   "execution_count": 81,
   "metadata": {},
   "outputs": [
    {
     "output_type": "execute_result",
     "data": {
      "text/plain": [
       "SVC(C=1.0, cache_size=200, class_weight=None, coef0=0.0,\n",
       "  decision_function_shape='ovr', degree=3, gamma='auto_deprecated',\n",
       "  kernel='rbf', max_iter=-1, probability=True, random_state=None,\n",
       "  shrinking=True, tol=0.001, verbose=False)"
      ]
     },
     "metadata": {},
     "execution_count": 81
    }
   ],
   "source": [
    "from sklearn import svm\n",
    "model=svm.SVC(probability=True)\n",
    "model.fit(X_train, y_train)"
   ]
  },
  {
   "cell_type": "code",
   "execution_count": 82,
   "metadata": {},
   "outputs": [
    {
     "output_type": "execute_result",
     "data": {
      "text/plain": [
       "0.6825842696629213"
      ]
     },
     "metadata": {},
     "execution_count": 82
    }
   ],
   "source": [
    "model.score(X_test,y_test)"
   ]
  },
  {
   "cell_type": "code",
   "execution_count": 87,
   "metadata": {},
   "outputs": [],
   "source": [
    "import pickle\n",
    "filename = 'respiratory_infection.pkl'\n",
    "pickle.dump(model2, open(filename, 'wb'))"
   ]
  },
  {
   "cell_type": "code",
   "execution_count": 88,
   "metadata": {},
   "outputs": [
    {
     "output_type": "execute_result",
     "data": {
      "text/plain": [
       "array([0], dtype=int64)"
      ]
     },
     "metadata": {},
     "execution_count": 88
    }
   ],
   "source": [
    "filename = 'respiratory_infection.pkl'\n",
    "loaded_model = pickle.load(open(filename, 'rb'))\n",
    "data_input = [75.80626,0,39.41814266,92.33329773,92,95.6]\n",
    "model2.predict([data_input])"
   ]
  },
  {
   "cell_type": "code",
   "execution_count": 96,
   "metadata": {},
   "outputs": [
    {
     "output_type": "stream",
     "name": "stdout",
     "text": [
      "0.48690968408543844\n"
     ]
    }
   ],
   "source": [
    "print(model2.predict_proba([data_input])[0][1])"
   ]
  },
  {
   "cell_type": "code",
   "execution_count": null,
   "metadata": {},
   "outputs": [],
   "source": []
  }
 ]
}